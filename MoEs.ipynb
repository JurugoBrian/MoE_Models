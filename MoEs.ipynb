{
  "nbformat": 4,
  "nbformat_minor": 0,
  "metadata": {
    "colab": {
      "provenance": [],
      "authorship_tag": "ABX9TyMANzMvVGPbbPB3SsbJ/bck",
      "include_colab_link": true
    },
    "kernelspec": {
      "name": "python3",
      "display_name": "Python 3"
    },
    "language_info": {
      "name": "python"
    }
  },
  "cells": [
    {
      "cell_type": "markdown",
      "metadata": {
        "id": "view-in-github",
        "colab_type": "text"
      },
      "source": [
        "<a href=\"https://colab.research.google.com/github/JurugoBrian/MoE_Models/blob/main/MoEs.ipynb\" target=\"_parent\"><img src=\"https://colab.research.google.com/assets/colab-badge.svg\" alt=\"Open In Colab\"/></a>"
      ]
    },
    {
      "cell_type": "markdown",
      "source": [],
      "metadata": {
        "id": "eI1peWsBVAWx"
      }
    },
    {
      "cell_type": "code",
      "source": [
        "pip install split-folders"
      ],
      "metadata": {
        "id": "tEkGlGNgIgkn",
        "colab": {
          "base_uri": "https://localhost:8080/"
        },
        "outputId": "e0dbc38f-10c9-46ed-8af5-2c29b45f1bdc"
      },
      "execution_count": null,
      "outputs": [
        {
          "output_type": "stream",
          "name": "stdout",
          "text": [
            "Collecting split-folders\n",
            "  Downloading split_folders-0.5.1-py3-none-any.whl.metadata (6.2 kB)\n",
            "Downloading split_folders-0.5.1-py3-none-any.whl (8.4 kB)\n",
            "Installing collected packages: split-folders\n",
            "Successfully installed split-folders-0.5.1\n"
          ]
        }
      ]
    },
    {
      "cell_type": "code",
      "source": [
        "# Import necessary libraries\n",
        "import os\n",
        "from google.colab import drive\n",
        "import tensorflow as tf\n",
        "import tensorflow_hub as hub\n",
        "from tensorflow.keras import layers\n",
        "import matplotlib.pyplot as plt\n",
        "import seaborn as sns\n",
        "import random\n",
        "import shutil\n",
        "from PIL import Image\n",
        "from sklearn.model_selection import train_test_split\n",
        "import splitfolders\n",
        "import pandas as pd"
      ],
      "metadata": {
        "id": "YJ-EoB9a3YK2"
      },
      "execution_count": null,
      "outputs": []
    },
    {
      "cell_type": "code",
      "source": [
        "print(splitfolders.__version__)"
      ],
      "metadata": {
        "colab": {
          "base_uri": "https://localhost:8080/"
        },
        "id": "5GYtptiN63kN",
        "outputId": "4b69479c-bc20-4b2b-a8e5-7adcec8f7375"
      },
      "execution_count": null,
      "outputs": [
        {
          "output_type": "stream",
          "name": "stdout",
          "text": [
            "0.5.1\n"
          ]
        }
      ]
    },
    {
      "cell_type": "code",
      "source": [
        "# Mount Google Drive and Load Datasets and define the paths to the datasets\n",
        "drive.mount('/content/drive')\n",
        "input_dir = '/content/drive/MyDrive/2025/MCSC_Research/cancer_dataset/input'     # Base directory containing the dataset\n",
        "output_dir = '/content/drive/MyDrive/2025/MCSC_Research/cancer_dataset/output'  # Output directory where the split datasets will be stored\n",
        "classes = ['Dyskeratotic', 'Koilocytotic', 'Metaplastic', 'Parabasal', 'Superficial-Intermediate']  # Define the classes\n",
        "\n",
        "# Split ration\n",
        "train_ratio = 0.8\n",
        "val_ratio = 0.1\n",
        "test_ratio = 0.1"
      ],
      "metadata": {
        "id": "0M3h3nzE41tt",
        "colab": {
          "base_uri": "https://localhost:8080/"
        },
        "outputId": "26f9ebb3-dc0d-4df2-856a-1036a9761186"
      },
      "execution_count": null,
      "outputs": [
        {
          "output_type": "stream",
          "name": "stdout",
          "text": [
            "Drive already mounted at /content/drive; to attempt to forcibly remount, call drive.mount(\"/content/drive\", force_remount=True).\n"
          ]
        }
      ]
    },
    {
      "cell_type": "code",
      "source": [
        "\n",
        "# Initialize a dictionary to hold class names and their image counts\n",
        "class_counts = {}\n",
        "\n",
        "# Iterate over each class directory in the input directory\n",
        "for class_name in os.listdir(input_dir):\n",
        "    class_path = os.path.join(input_dir, class_name)\n",
        "    if os.path.isdir(class_path):\n",
        "        # Count the number of .bmp images in the class directory\n",
        "        image_count = len([\n",
        "            file for file in os.listdir(class_path)\n",
        "            if file.lower().endswith('.bmp')\n",
        "        ])\n",
        "        class_counts[class_name] = image_count\n",
        "\n",
        "# Check if any classes were found\n",
        "if not class_counts:\n",
        "    print(f\"No class directories with .bmp images found in {input_dir}.\")\n",
        "else:\n",
        "    # Create a DataFrame from the class_counts dictionary\n",
        "    df = pd.DataFrame(list(class_counts.items()), columns=['Class', 'Count'])\n",
        "\n",
        "    # Set the style for the plot\n",
        "    sns.set(style=\"whitegrid\")\n",
        "\n",
        "    # Create a bar plot\n",
        "    plt.figure(figsize=(10, 6))\n",
        "    ax = sns.barplot(data=df, x='Class', y='Count', hue='Class', palette='muted', legend=False)\n",
        "\n",
        "    # Add value labels on top of each bar\n",
        "    for container in ax.containers:\n",
        "        ax.bar_label(container, fmt='%d', label_type='edge', padding=3)\n",
        "\n",
        "    # Set plot labels and title\n",
        "    plt.xlabel('Class')\n",
        "    plt.ylabel('Number of Images')\n",
        "    plt.title('Number of .bmp Images per Class')\n",
        "    plt.xticks(rotation=45)\n",
        "    plt.tight_layout()\n",
        "\n",
        "    # Display the plot\n",
        "    plt.show()\n"
      ],
      "metadata": {
        "colab": {
          "base_uri": "https://localhost:8080/",
          "height": 601
        },
        "id": "DYZkvea_BHOo",
        "outputId": "b218cc16-e579-42eb-ea62-233c1ebb3193"
      },
      "execution_count": null,
      "outputs": [
        {
          "output_type": "display_data",
          "data": {
            "text/plain": [
              "<Figure size 1000x600 with 1 Axes>"
            ],
            "image/png": "[encoded data removed]"
          },
          "metadata": {}
        }
      ]
    },
    {
      "cell_type": "code",
      "source": [
        "# Visualize a sample of images from each of the 5 classes\n",
        "\n",
        "# Retrieve the list of class names (subdirectory names)\n",
        "class_names = [d for d in os.listdir(input_dir) if os.path.isdir(os.path.join(input_dir, d))]\n",
        "\n",
        "# Initialize lists to store images and their corresponding class labels\n",
        "images = []\n",
        "labels = []\n",
        "\n",
        "# Iterate over each class to select one random image\n",
        "for class_name in class_names:\n",
        "    class_path = os.path.join(input_dir, class_name)\n",
        "    image_files = [f for f in os.listdir(class_path) if f.lower().endswith('.bmp')]\n",
        "    if image_files:\n",
        "        selected_image = random.choice(image_files)\n",
        "        image_path = os.path.join(class_path, selected_image)\n",
        "        try:\n",
        "            img = Image.open(image_path)\n",
        "            images.append(img)\n",
        "            labels.append(class_name)\n",
        "        except Exception as e:\n",
        "            print(f\"Error loading image {image_path}: {e}\")\n",
        "\n",
        "# Determine the number of images to display\n",
        "num_images = len(images)\n",
        "\n",
        "# Set up the plot\n",
        "plt.figure(figsize=(15, 3))\n",
        "for i in range(num_images):\n",
        "    plt.subplot(1, num_images, i + 1)\n",
        "    plt.imshow(images[i])\n",
        "    plt.title(labels[i])\n",
        "    plt.axis('off')\n",
        "\n",
        "plt.tight_layout()\n",
        "plt.show()"
      ],
      "metadata": {
        "id": "DTBOqKhtR9qD"
      },
      "execution_count": null,
      "outputs": []
    },
    {
      "cell_type": "code",
      "source": [
        "# The input data is copied to out_dir and split into training, validation, and testing sets\n",
        "splitfolders.ratio(input_dir, output=output_dir, seed=42, ratio=(.8, .1, .1))"
      ],
      "metadata": {
        "colab": {
          "base_uri": "https://localhost:8080/"
        },
        "id": "fnrFPOYbCZua",
        "outputId": "c020c18a-6f95-453d-f612-bcc82f6e4f56"
      },
      "execution_count": null,
      "outputs": [
        {
          "output_type": "stream",
          "name": "stderr",
          "text": [
            "Copying files: 4049 files [02:57, 22.82 files/s]\n"
          ]
        }
      ]
    },
    {
      "cell_type": "code",
      "source": [
        "# Data augmentation pipeline using the Kera preprocessing layer\n",
        "data_augmentation = tf.keras.Sequential([\n",
        "    layers.RandomFlip(\"horizontal_and_vertical\"),\n",
        "    layers.RandomRotation(0.2),\n",
        "    layers.RandomZoom(0.1),\n",
        "    layers.RandomContrast(0.1),\n",
        "])"
      ],
      "metadata": {
        "id": "lnZS4u5-RhmJ"
      },
      "execution_count": null,
      "outputs": []
    },
    {
      "cell_type": "code",
      "source": [
        "# Apply augmentation to the training dataset using the map function\n",
        "AUTOTUNE = tf.data.AUTOTUNE\n",
        "\n",
        "train_ds = train_ds.map(\n",
        "    lambda x, y: (data_augmentation(x, training=True), y),\n",
        "    num_parallel_calls=AUTOTUNE)"
      ],
      "metadata": {
        "id": "HexZHQwMafT3"
      },
      "execution_count": null,
      "outputs": []
    },
    {
      "cell_type": "code",
      "source": [
        "# Optimize the datasets for performance by using prefetch function\n",
        "train_ds = train_ds.cache().shuffle(1000).prefetch(buffer_size=AUTOTUNE)\n",
        "test_ds = test_ds.cache().prefetch(buffer_size=AUTOTUNE)"
      ],
      "metadata": {
        "id": "vElss5LMbwmP"
      },
      "execution_count": null,
      "outputs": []
    },
    {
      "cell_type": "code",
      "source": [
        "# Visualize a few images to ensure that preprocessing has worked correctly\n",
        "\n",
        "# Function to display images\n",
        "def display_images(dataset):\n",
        "    plt.figure(figsize=(10, 10))\n",
        "    for i, (image, label) in enumerate(dataset.take(9)):  # Display 9 images\n",
        "        ax = plt.subplot(3, 3, i+1)\n",
        "        plt.imshow(image[0])  # Display first image in batch\n",
        "        plt.title(str(label[0].numpy()))  # Display label\n",
        "        plt.axis(\"off\")\n",
        "    plt.show()\n",
        "\n",
        "# Display a batch of images\n",
        "display_images(train_ds)"
      ],
      "metadata": {
        "id": "3iE8BVxHhUdw"
      },
      "execution_count": null,
      "outputs": []
    },
    {
      "cell_type": "code",
      "source": [
        "# Number of classes in the SIPAKMED dataset\n",
        "num_classes = 5\n",
        "\n",
        "# Function to create an expert model\n",
        "def create_expert_model(model_url, input_shape=(224, 224, 3)):\n",
        "    # Load pre-trained model from TensorFlow Hub\n",
        "    base_model = hub.KerasLayer(model_url, trainable=True)\n",
        "\n",
        "    # Define the model architecture\n",
        "    inputs = tf.keras.Input(shape=input_shape)\n",
        "    x = base_model(inputs)\n",
        "    outputs = tf.keras.layers.Dense(num_classes, activation='softmax')(x)\n",
        "\n",
        "    model = tf.keras.Model(inputs, outputs)\n",
        "    return model\n",
        "\n",
        "# URLs of pre-trained models on TensorFlow Hub\n",
        "model_urls = {\n",
        "    \"ResNet101\": \"https://tfhub.dev/tensorflow/resnet_101/feature_vector/5\",\n",
        "    \"EfficientNetB7\": \"https://tfhub.dev/tensorflow/efficientnet/b7/feature-vector/1\",\n",
        "    \"InceptionV3\": \"https://tfhub.dev/google/imagenet/inception_v3/feature_vector/5\",\n",
        "    \"Xception\": \"https://tfhub.dev/google/imagenet/xception/feature_vector/5\",\n",
        "    \"DenseNet\": \"https://tfhub.dev/tensorflow/densenet121/feature-vector/1\",\n",
        "    \"EfficientNetV2\": \"https://tfhub.dev/google/imagenet/efficientnet_v2_imagenet21k_b0/feature_vector/2\",\n",
        "    \"ViT\": \"https://tfhub.dev/sayakpaul/vit_b16_fe/1\",\n",
        "    \"SwinTransformer\": \"https://tfhub.dev/sayakpaul/swin_tiny_patch4_window7_224_fe/1\"\n",
        "}\n",
        "\n",
        "# Create expert models\n",
        "experts = [create_expert_model(url) for url in model_urls.values()]\n"
      ],
      "metadata": {
        "id": "dgkRNQJADa6r"
      },
      "execution_count": null,
      "outputs": []
    },
    {
      "cell_type": "code",
      "source": [
        "# Define the gating network (The gating network takes the same input and outputs a probability distribution over the experts)\n",
        "def create_gating_network():\n",
        "    inputs = tf.keras.Input(shape=(224, 224, 3))\n",
        "    x = tf.keras.layers.Conv2D(16, (3, 3), activation='relu')(inputs)\n",
        "    x = tf.keras.layers.MaxPooling2D((2, 2))(x)\n",
        "    x = tf.keras.layers.Flatten()(x)\n",
        "    x = tf.keras.layers.Dense(32, activation='relu')(x)\n",
        "    outputs = tf.keras.layers.Dense(len(experts), activation='softmax')(x)\n",
        "\n",
        "    model = tf.keras.Model(inputs, outputs)\n",
        "    return model\n",
        "\n",
        "gating_network = create_gating_network()"
      ],
      "metadata": {
        "id": "eu2xeIp9GMZE"
      },
      "execution_count": null,
      "outputs": []
    },
    {
      "cell_type": "code",
      "source": [
        "# Define the MoE model (A custom TensorFlow model that integrates the experts and the gating network.)\n",
        "class MixtureOfExperts(tf.keras.Model):\n",
        "    def __init__(self, experts, gating_network):\n",
        "        super(MixtureOfExperts, self).__init__()\n",
        "        self.experts = experts\n",
        "        self.gating_network = gating_network\n",
        "\n",
        "    def call(self, inputs):\n",
        "        # Get gating weights\n",
        "        gating_weights = self.gating_network(inputs)\n",
        "\n",
        "        # Get expert outputs\n",
        "        expert_outputs = [expert(inputs) for expert in self.experts]\n",
        "\n",
        "        # Stack expert outputs\n",
        "        expert_outputs = tf.stack(expert_outputs, axis=-1)\n",
        "\n",
        "        # Weight expert outputs by gating weights\n",
        "        weighted_outputs = expert_outputs * tf.expand_dims(gating_weights, axis=-2)\n",
        "\n",
        "        # Sum weighted outputs\n",
        "        output = tf.reduce_sum(weighted_outputs, axis=-1)\n",
        "\n",
        "        return output\n",
        "\n",
        "# Instantiate the MoE model\n",
        "moe_model = MixtureOfExperts(experts, gating_network)"
      ],
      "metadata": {
        "id": "pAuOpyyfGxxH"
      },
      "execution_count": null,
      "outputs": []
    },
    {
      "cell_type": "code",
      "source": [
        "# Compile and train the MoE model\n",
        "moe_model.compile(\n",
        "    optimizer=tf.keras.optimizers.Adam(learning_rate=0.001),\n",
        "    loss='sparse_categorical_crossentropy',\n",
        "    metrics=['accuracy']\n",
        ")\n",
        "\n",
        "# Train the model\n",
        "history = moe_model.fit(\n",
        "    train_dataset,  # Replace with your training dataset\n",
        "    validation_data=validation_dataset,  # Replace with your validation dataset\n",
        "    epochs=10\n",
        ")\n"
      ],
      "metadata": {
        "id": "JGARHjioHit8"
      },
      "execution_count": null,
      "outputs": []
    }
  ]
}